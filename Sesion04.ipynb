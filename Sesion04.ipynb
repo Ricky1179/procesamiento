{
 "cells": [
  {
   "cell_type": "code",
   "execution_count": 1,
   "metadata": {},
   "outputs": [],
   "source": [
    "import pandas as pd"
   ]
  },
  {
   "cell_type": "code",
   "execution_count": 12,
   "metadata": {},
   "outputs": [
    {
     "data": {
      "text/html": [
       "<div>\n",
       "<style scoped>\n",
       "    .dataframe tbody tr th:only-of-type {\n",
       "        vertical-align: middle;\n",
       "    }\n",
       "\n",
       "    .dataframe tbody tr th {\n",
       "        vertical-align: top;\n",
       "    }\n",
       "\n",
       "    .dataframe thead th {\n",
       "        text-align: right;\n",
       "    }\n",
       "</style>\n",
       "<table border=\"1\" class=\"dataframe\">\n",
       "  <thead>\n",
       "    <tr style=\"text-align: right;\">\n",
       "      <th></th>\n",
       "      <th>index</th>\n",
       "      <th>no_cuenta</th>\n",
       "      <th>nombres</th>\n",
       "      <th>apellido_paterno</th>\n",
       "      <th>fecha_nacimiento</th>\n",
       "      <th>estatura</th>\n",
       "    </tr>\n",
       "  </thead>\n",
       "  <tbody>\n",
       "    <tr>\n",
       "      <th>0</th>\n",
       "      <td>0</td>\n",
       "      <td>1A</td>\n",
       "      <td>Juan</td>\n",
       "      <td>Lopez</td>\n",
       "      <td>2001-01-01</td>\n",
       "      <td>1.78</td>\n",
       "    </tr>\n",
       "    <tr>\n",
       "      <th>1</th>\n",
       "      <td>1</td>\n",
       "      <td>1GG</td>\n",
       "      <td>Maria</td>\n",
       "      <td>Paterno 1</td>\n",
       "      <td>2001-03-20</td>\n",
       "      <td>1.60</td>\n",
       "    </tr>\n",
       "    <tr>\n",
       "      <th>2</th>\n",
       "      <td>2</td>\n",
       "      <td>21OL</td>\n",
       "      <td>Donna</td>\n",
       "      <td>River</td>\n",
       "      <td>2002-01-09</td>\n",
       "      <td>1.69</td>\n",
       "    </tr>\n",
       "    <tr>\n",
       "      <th>3</th>\n",
       "      <td>3</td>\n",
       "      <td>2GG</td>\n",
       "      <td>Maria</td>\n",
       "      <td>Paterno 2</td>\n",
       "      <td>2001-03-20</td>\n",
       "      <td>1.62</td>\n",
       "    </tr>\n",
       "    <tr>\n",
       "      <th>4</th>\n",
       "      <td>4</td>\n",
       "      <td>3B</td>\n",
       "      <td>Perla</td>\n",
       "      <td>Calles</td>\n",
       "      <td>2001-01-20</td>\n",
       "      <td>1.60</td>\n",
       "    </tr>\n",
       "    <tr>\n",
       "      <th>5</th>\n",
       "      <td>5</td>\n",
       "      <td>4A</td>\n",
       "      <td>Carlos</td>\n",
       "      <td>Madero</td>\n",
       "      <td>2001-01-01</td>\n",
       "      <td>1.68</td>\n",
       "    </tr>\n",
       "    <tr>\n",
       "      <th>6</th>\n",
       "      <td>6</td>\n",
       "      <td>574</td>\n",
       "      <td>Pedro</td>\n",
       "      <td>Paterno 5</td>\n",
       "      <td>2022-01-31</td>\n",
       "      <td>1.60</td>\n",
       "    </tr>\n",
       "    <tr>\n",
       "      <th>7</th>\n",
       "      <td>7</td>\n",
       "      <td>6C</td>\n",
       "      <td>Jesus</td>\n",
       "      <td>Garcia</td>\n",
       "      <td>2001-03-20</td>\n",
       "      <td>1.65</td>\n",
       "    </tr>\n",
       "    <tr>\n",
       "      <th>8</th>\n",
       "      <td>8</td>\n",
       "      <td>7B</td>\n",
       "      <td>Gema</td>\n",
       "      <td>None</td>\n",
       "      <td>2001-03-20</td>\n",
       "      <td>1.53</td>\n",
       "    </tr>\n",
       "    <tr>\n",
       "      <th>9</th>\n",
       "      <td>9</td>\n",
       "      <td>A744</td>\n",
       "      <td>Amaro</td>\n",
       "      <td>Garcia</td>\n",
       "      <td>2001-09-23</td>\n",
       "      <td>1.83</td>\n",
       "    </tr>\n",
       "  </tbody>\n",
       "</table>\n",
       "</div>"
      ],
      "text/plain": [
       "   index no_cuenta nombres apellido_paterno fecha_nacimiento  estatura\n",
       "0      0        1A    Juan            Lopez       2001-01-01      1.78\n",
       "1      1       1GG   Maria        Paterno 1       2001-03-20      1.60\n",
       "2      2      21OL   Donna            River       2002-01-09      1.69\n",
       "3      3       2GG   Maria        Paterno 2       2001-03-20      1.62\n",
       "4      4        3B   Perla           Calles       2001-01-20      1.60\n",
       "5      5        4A  Carlos           Madero       2001-01-01      1.68\n",
       "6      6       574   Pedro        Paterno 5       2022-01-31      1.60\n",
       "7      7        6C   Jesus           Garcia       2001-03-20      1.65\n",
       "8      8        7B    Gema             None       2001-03-20      1.53\n",
       "9      9      A744   Amaro           Garcia       2001-09-23      1.83"
      ]
     },
     "execution_count": 12,
     "metadata": {},
     "output_type": "execute_result"
    }
   ],
   "source": [
    "df = pd.read_csv(\"datos/alumnos.csv\")\n",
    "df"
   ]
  },
  {
   "cell_type": "code",
   "execution_count": 13,
   "metadata": {},
   "outputs": [],
   "source": [
    "#Escribir a in CSV\n",
    "df.to_csv(\"datos/df/alumnos_coma.csv\", index_label=\"ID\")"
   ]
  },
  {
   "cell_type": "code",
   "execution_count": 14,
   "metadata": {},
   "outputs": [],
   "source": [
    "#Escribir a in CSV\n",
    "df.to_csv(\"datos/df/alumnos_pipe.csv\",\n",
    "          index=False,\n",
    "          sep=\"|\")"
   ]
  },
  {
   "cell_type": "code",
   "execution_count": 15,
   "metadata": {},
   "outputs": [],
   "source": [
    "#Escribir un JSON\n",
    "df.to_json('datos/df/alumnos_campos.json',\n",
    "           indent=2)"
   ]
  },
  {
   "cell_type": "code",
   "execution_count": 16,
   "metadata": {},
   "outputs": [],
   "source": [
    "#Escribir un JSON orientado a registros\n",
    "df.to_json('datos/df/alumnos_registros.json',\n",
    "           orient=\"records\",\n",
    "           indent=2)"
   ]
  },
  {
   "cell_type": "code",
   "execution_count": 17,
   "metadata": {},
   "outputs": [],
   "source": [
    "#Escribir un JSON orientado a tablas\n",
    "df.to_json('datos/df/alumnos_tabla.json',\n",
    "           orient=\"table\",\n",
    "           indent=2)"
   ]
  },
  {
   "cell_type": "code",
   "execution_count": 18,
   "metadata": {},
   "outputs": [],
   "source": [
    "#Escribir un JSON orientado a valores\n",
    "df.to_json('datos/df/alumnos_valores.json',\n",
    "           orient=\"values\",\n",
    "           indent=2)"
   ]
  },
  {
   "cell_type": "code",
   "execution_count": 19,
   "metadata": {},
   "outputs": [],
   "source": [
    "#Escribir en exel\n",
    "df.to_excel('datos/df/alumnos_excel.xlsx',\n",
    "            sheet_name='AlumnosArcelia',\n",
    "            index=False)"
   ]
  },
  {
   "cell_type": "code",
   "execution_count": 20,
   "metadata": {},
   "outputs": [],
   "source": [
    "#Escribir en multiples hojas en un archivo de excel\n",
    "#df_2 = df.copy()\n",
    "with pd.ExcelWriter('datos/df/alumnos_hojas.xlsx') as w:\n",
    "    for i in range(5):\n",
    "        hoja = f\"AlumnosHoja{i}\"\n",
    "        df.to_excel(w, sheet_name=hoja, index=False)"
   ]
  },
  {
   "cell_type": "code",
   "execution_count": 21,
   "metadata": {},
   "outputs": [],
   "source": [
    "#Escribir en un archivo de excel existente\n",
    "with pd.ExcelWriter('datos/df/alumnos_hojas.xlsx', \n",
    "    mode='a', engine=\"openpyxl\",) as w:\n",
    "    df.to_excel(w, sheet_name=\"AlumnosExiste\", index=False)"
   ]
  }
 ],
 "metadata": {
  "kernelspec": {
   "display_name": "base",
   "language": "python",
   "name": "python3"
  },
  "language_info": {
   "codemirror_mode": {
    "name": "ipython",
    "version": 3
   },
   "file_extension": ".py",
   "mimetype": "text/x-python",
   "name": "python",
   "nbconvert_exporter": "python",
   "pygments_lexer": "ipython3",
   "version": "3.10.9"
  },
  "orig_nbformat": 4
 },
 "nbformat": 4,
 "nbformat_minor": 2
}
